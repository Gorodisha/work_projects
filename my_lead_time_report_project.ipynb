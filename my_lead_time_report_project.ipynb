{
 "cells": [
  {
   "cell_type": "code",
   "execution_count": 1,
   "id": "ea00c275",
   "metadata": {},
   "outputs": [],
   "source": [
    "import warnings\n",
    "warnings.simplefilter(action='ignore')\n",
    "\n",
    "import pandas as pd\n",
    "import pyodbc\n",
    "import adodbapi as ado\n",
    "import numpy as np\n",
    "from IPython.core.interactiveshell import InteractiveShell\n",
    "InteractiveShell.ast_node_interactivity = \"all\""
   ]
  },
  {
   "cell_type": "markdown",
   "id": "c188d310",
   "metadata": {},
   "source": [
    "# Ограничения на % выполнения от выпуска:"
   ]
  },
  {
   "cell_type": "code",
   "execution_count": 2,
   "id": "25d3e96f",
   "metadata": {},
   "outputs": [],
   "source": [
    "i_f_w=95\n",
    "i_other=98"
   ]
  },
  {
   "cell_type": "markdown",
   "id": "0b653043",
   "metadata": {},
   "source": [
    "# Загрузка и предобработка PPS с учетом ограничений"
   ]
  },
  {
   "cell_type": "code",
   "execution_count": 4,
   "id": "a6cad2e0",
   "metadata": {
    "scrolled": true
   },
   "outputs": [
    {
     "name": "stdout",
     "output_type": "stream",
     "text": [
      "Wall time: 4.01 s\n"
     ]
    }
   ],
   "source": [
    "%%time\n",
    "#Загружаем основную таблицу PPS\n",
    "\n",
    "server = 'private data'\n",
    "database = 'private data'\n",
    "connection = pyodbc.connect('private data')\n",
    "\n",
    "\n",
    "\n",
    "sql = \"\"\"select \n",
    "VpextM_P_PS.model as model,\n",
    "VpextM_P_PS.DT as DT, \n",
    "VpextM_P_PS.num,\n",
    "PodrsExt.name, PodrsExt.ros, \n",
    "modelsall.modeliN, \n",
    "modelsall.zakaz,  modelsall.model,\n",
    "DepartmentS.Name as Dep,\n",
    "CategoryS.Name as Cat,\n",
    "SubCategoryS.Name as subCat,\n",
    "typsRazb.num as razb,\n",
    "VpextM_P_PS.Vp,\n",
    "VpextM_P_PS.minutVp\n",
    "\n",
    "\n",
    "from VpextM_P_PS\n",
    "\n",
    "left join PodrsExt on VpextM_P_PS.podr = PodrsExt.podr\n",
    "left join modelsall on VpextM_P_PS.model = modelsall.model\n",
    "left join typsRazb on modelsall.razb = typsRazb.num\n",
    "left join DepartmentS on modelsall.Department = DepartmentS.Department\n",
    "left join CategoryS on modelsall.Category = CategoryS.Category\n",
    "left join SubCategoryS on modelsall.SubCategory = SubCategoryS.SubCategory\n",
    "\n",
    "\n",
    "\n",
    "\n",
    "where year(VpextM_P_PS.DT)>=2021\n",
    "\"\"\"\n",
    "cursor = connection.cursor()\n",
    "Vpext = cursor.execute(sql)\n",
    "Vpext = pd.DataFrame.from_records(Vpext.fetchall(),\n",
    "columns=[column[0] for column in Vpext.description])\n",
    "\n",
    "\n",
    "Vpext=Vpext.dropna(subset=['modeliN'])\n",
    "Vpext['StyleNo']=Vpext.modeliN.str.split(' ', expand = True)[0]\n",
    "Vpext=Vpext.drop(['model'], axis=1)"
   ]
  },
  {
   "cell_type": "code",
   "execution_count": 5,
   "id": "760e0419",
   "metadata": {},
   "outputs": [],
   "source": [
    "#Определение процентов\n",
    "\n",
    "percent_oper=pd.DataFrame({'name':Vpext.name.unique()})\n",
    "percent_oper['percent']=np.where(((percent_oper=='Finishing')|(percent_oper=='Washing')), i_f_w, i_other)"
   ]
  },
  {
   "cell_type": "code",
   "execution_count": 6,
   "id": "c1b4562b",
   "metadata": {},
   "outputs": [],
   "source": [
    "#Убираем из данных строки, где Vp и minutVp не нули\n",
    "\n",
    "Vpext=Vpext[~((Vpext.Vp==0)&(Vpext.minutVp==0))]\n",
    "Vpext = Vpext.drop(['minutVp'], axis=1)\n",
    "Vpext=Vpext.reset_index(drop=True)"
   ]
  },
  {
   "cell_type": "markdown",
   "id": "05c0b4c3",
   "metadata": {},
   "source": [
    "# Загрузка куба"
   ]
  },
  {
   "cell_type": "code",
   "execution_count": 7,
   "id": "eb61c690",
   "metadata": {},
   "outputs": [
    {
     "name": "stdout",
     "output_type": "stream",
     "text": [
      "Wall time: 31.6 s\n"
     ]
    }
   ],
   "source": [
    "%%time\n",
    "# Запрос к кубу\n",
    "\n",
    "conn_args = {'timeout' : 90000}\n",
    "with ado.connect('''private data''',  conn_args) as con:\n",
    "\n",
    "        with con.cursor() as cur:\n",
    "            first_mdx = ''' SELECT { [Measures].[Выпуск шт] } ON COLUMNS,\n",
    "            { ([Модели].[Модель].[Модель].ALLMEMBERS\n",
    "            * [Модели].[Тип производства].[Тип производства].ALLMEMBERS\n",
    "            * [Модели].[Новые ЦГ 0-8].[Новые ЦГ 0-8].ALLMEMBERS) } \n",
    "            DIMENSION PROPERTIES MEMBER_CAPTION,\n",
    "            MEMBER_UNIQUE_NAME ON ROWS FROM [SalesChecksCustomers] '''\n",
    "\n",
    "\n",
    "            # all model\n",
    "\n",
    "            cur.execute(first_mdx)\n",
    "            data0 = cur.fetchall()\n",
    "            ar = np.array(data0.ado_results)\n",
    "            df = pd.DataFrame(ar).transpose()\n",
    "            df.columns = data0.columnNames.keys()\n",
    "\n",
    "df = df[[col for col in df.columns if 'unique' not in col]]\n",
    "df.columns = ['modeliN', 'Тип','Target group','Output, Units']\n",
    "df=df.drop(['Output, Units'], axis=1)"
   ]
  },
  {
   "cell_type": "markdown",
   "id": "ec678498",
   "metadata": {},
   "source": [
    "# Загрузка PLM"
   ]
  },
  {
   "cell_type": "code",
   "execution_count": 8,
   "id": "bb531c3a",
   "metadata": {},
   "outputs": [],
   "source": [
    "#PLM\n",
    "\n",
    "server = 'private data'\n",
    "database = 'private data'\n",
    "connection = pyodbc.connect('private data')\n",
    "\n",
    "\n",
    "\n",
    "sql = \"\"\"SELECT *\n",
    "         FROM vwx_GJ_ProductionPlanning_CC_SEL\n",
    "     \"\"\"\n",
    "\n",
    "cursor = connection.cursor()\n",
    "plm_base_cc_raw = cursor.execute(sql)\n",
    "plm_base_cc = pd.DataFrame.from_records(plm_base_cc_raw.fetchall(),\n",
    "                                             columns=[column[0] for column in plm_base_cc_raw.description])\n",
    "\n",
    "cursor.close()"
   ]
  },
  {
   "cell_type": "code",
   "execution_count": 9,
   "id": "2c8c2f65",
   "metadata": {},
   "outputs": [],
   "source": [
    "#Берем из PLM только ДНП\n",
    "\n",
    "plm_base_cc=plm_base_cc[['ДНП','StyleNo']]\n",
    "plm_base_cc = plm_base_cc.rename(columns = {'ДНП': 'dnp'}, inplace = False)"
   ]
  },
  {
   "cell_type": "markdown",
   "id": "f2052e28",
   "metadata": {},
   "source": [
    "# Соединение PPS и PLM"
   ]
  },
  {
   "cell_type": "code",
   "execution_count": 10,
   "id": "c0636cbc",
   "metadata": {},
   "outputs": [],
   "source": [
    "#Присоединяем ДНП из PLM к осн. таблице\n",
    "\n",
    "Vpext=Vpext.merge(plm_base_cc, how = 'left', on ='StyleNo' )"
   ]
  },
  {
   "cell_type": "code",
   "execution_count": 11,
   "id": "f2dbc5c1",
   "metadata": {},
   "outputs": [],
   "source": [
    "#Присоединяем ДНП из куба к осн. таблице\n",
    "\n",
    "Vpext=Vpext.merge(df, how = 'left', on ='modeliN')"
   ]
  },
  {
   "cell_type": "code",
   "execution_count": 12,
   "id": "627c1ecb",
   "metadata": {},
   "outputs": [],
   "source": [
    "#Только основное производство\n",
    "\n",
    "Vpext = Vpext.loc[(Vpext.razb.isna())|(Vpext.razb==1)]\n",
    "Vpext=Vpext.drop(['razb'], axis=1)\n",
    "Vpext=Vpext.reset_index(drop=True)"
   ]
  },
  {
   "cell_type": "code",
   "execution_count": 14,
   "id": "0fed1021",
   "metadata": {},
   "outputs": [
    {
     "data": {
      "text/plain": [
       "DT               0\n",
       "num              0\n",
       "name             0\n",
       "ros              0\n",
       "modeliN          0\n",
       "zakaz            0\n",
       "Dep              0\n",
       "Cat              0\n",
       "subCat           0\n",
       "Vp               0\n",
       "StyleNo          0\n",
       "dnp             90\n",
       "Тип             82\n",
       "Target group    82\n",
       "dtype: int64"
      ]
     },
     "execution_count": 14,
     "metadata": {},
     "output_type": "execute_result"
    }
   ],
   "source": [
    "Vpext.isna().sum()"
   ]
  },
  {
   "cell_type": "markdown",
   "id": "024e7f39",
   "metadata": {},
   "source": [
    "# Загрузка ОДВ"
   ]
  },
  {
   "cell_type": "code",
   "execution_count": 15,
   "id": "8a2c119a",
   "metadata": {},
   "outputs": [
    {
     "name": "stdout",
     "output_type": "stream",
     "text": [
      "Wall time: 2min 25s\n"
     ]
    }
   ],
   "source": [
    "%%time\n",
    "#Загружаем ОДВ\n",
    "\n",
    "load_odv=pd.read_excel('Одв.xlsx')"
   ]
  },
  {
   "cell_type": "code",
   "execution_count": 16,
   "id": "7e000c45",
   "metadata": {
    "scrolled": true
   },
   "outputs": [],
   "source": [
    "#Оставляем только модель и статус\n",
    "odv= load_odv[['Style', 'Order status', 'Category Production','Production','current season']]\n",
    "odv['StyleNo'] = odv['Style'].str.split(' ', expand = True)[0]\n",
    "odv = odv.rename(columns = {'Style': 'modeliN'}, inplace = False)\n",
    "odv = odv.reset_index(drop=True)"
   ]
  },
  {
   "cell_type": "code",
   "execution_count": 17,
   "id": "540872ea",
   "metadata": {},
   "outputs": [],
   "source": [
    "#Оставляем только импортные строчки без отмены на модель\n",
    "\n",
    "odv = odv[~((odv.Production == 'import')|(odv['current season'].str.contains('отмена')))]\n",
    "odv = odv.reset_index(drop=True)"
   ]
  },
  {
   "cell_type": "markdown",
   "id": "0275d459",
   "metadata": {},
   "source": [
    "# Соединение всех 3-х баз"
   ]
  },
  {
   "cell_type": "code",
   "execution_count": 18,
   "id": "2afe3946",
   "metadata": {},
   "outputs": [],
   "source": [
    "#Присоединяем ОДВ к Vpext, фильтруем статус, убираем лишние столбики\n",
    "\n",
    "pps_odv_plm = Vpext.merge(odv[['StyleNo', 'Order status', 'Category Production']], how = 'left', on ='StyleNo' )\n",
    "pps_odv_plm=pps_odv_plm[pps_odv_plm['Order status']=='закрыт']\n",
    "pps_odv_plm = pps_odv_plm.drop(['Order status'], axis=1)\n",
    "pps_odv_plm = pps_odv_plm.reset_index(drop=True)"
   ]
  },
  {
   "cell_type": "markdown",
   "id": "d5506593",
   "metadata": {},
   "source": [
    "# Обработка данных с учетом ограничений на % выпуска от заказа"
   ]
  },
  {
   "cell_type": "code",
   "execution_count": 19,
   "id": "f6c4e5f1",
   "metadata": {},
   "outputs": [],
   "source": [
    "#Считаем накопленную сумму выпуска по каждой операции модели\n",
    "\n",
    "cumul_Vp=pps_odv_plm.groupby(['modeliN', 'name', 'DT'])['Vp'].sum().groupby(level=[0,1]).cumsum().reset_index()\n",
    "cumul_Vp=cumul_Vp.rename(columns = {'Vp': 'Vp_cumul'}, inplace = False)"
   ]
  },
  {
   "cell_type": "code",
   "execution_count": 20,
   "id": "21f329dd",
   "metadata": {},
   "outputs": [],
   "source": [
    "#Считаем % выполнения заказа \n",
    "\n",
    "cumul_percent = pps_odv_plm.merge(cumul_Vp, how='left', on=['modeliN', 'name', 'DT'])\n",
    "cumul_percent['%Vp'] = cumul_percent['Vp_cumul']/cumul_percent['zakaz']*100\n",
    "cumul_percent = cumul_percent.merge(percent_oper, how='left', on='name')"
   ]
  },
  {
   "cell_type": "code",
   "execution_count": 21,
   "id": "2351fa88",
   "metadata": {},
   "outputs": [],
   "source": [
    "#Таблица для идентификации строк, превышающих % выпуска\n",
    "\n",
    "cumul_percent['is_del']=np.where(cumul_percent['%Vp']>=cumul_percent.percent,1,0)\n",
    "cumul_percent_del=cumul_percent.groupby(['modeliN', 'name', 'DT'])['is_del'].sum().groupby(level=[0,1]).cumsum().reset_index()\n",
    "cumul_percent_del=cumul_percent_del.rename(columns = {'is_del': 'is_del_cumul'}, inplace = False)\n",
    "\n",
    "#Данные без превышения % выпуска\n",
    "clear_cumul_data = cumul_percent.merge(cumul_percent_del, how='left', on=['modeliN', 'name', 'DT'])"
   ]
  },
  {
   "cell_type": "code",
   "execution_count": 22,
   "id": "b5c98b68",
   "metadata": {},
   "outputs": [],
   "source": [
    "#Оставляем только те строки, где % выпуска не превышен\n",
    "\n",
    "pps_odv_plm=clear_cumul_data[clear_cumul_data.is_del==clear_cumul_data.is_del_cumul]\n",
    "pps_odv_plm=pps_odv_plm.drop(['Vp_cumul','%Vp','is_del','percent','is_del_cumul'], axis=1)"
   ]
  },
  {
   "cell_type": "code",
   "execution_count": 23,
   "id": "cde52ff1",
   "metadata": {},
   "outputs": [],
   "source": [
    "#Список моделей, которые производятся у субкотракторов\n",
    "subcontr_model_list = list(pps_odv_plm[pps_odv_plm.ros=='Субконтракторы                '].modeliN.unique())"
   ]
  },
  {
   "cell_type": "code",
   "execution_count": 24,
   "id": "a480ea89",
   "metadata": {},
   "outputs": [],
   "source": [
    "#Список моделей, производство которых было и в России, и в Украине\n",
    "\n",
    "data_rus_and_ukr = pps_odv_plm[(pps_odv_plm.ros=='Россия                        ')|\n",
    "            (pps_odv_plm.ros=='Украина                       ')][['modeliN','ros']].drop_duplicates().groupby(\n",
    "                                                               'modeliN').count().reset_index()\n",
    "data_rus_and_ukr = data_rus_and_ukr[data_rus_and_ukr.ros>1]\n",
    "\n",
    "rus_and_ukr_list = list(data_rus_and_ukr.modeliN.unique())"
   ]
  },
  {
   "cell_type": "code",
   "execution_count": 25,
   "id": "74cc7b58",
   "metadata": {},
   "outputs": [],
   "source": [
    "#Замена стран\n",
    "\n",
    "pps_odv_plm.loc[pps_odv_plm.modeliN.isin(subcontr_model_list), 'ros'] = 'Субконтракторы'\n",
    "pps_odv_plm.loc[pps_odv_plm.modeliN.isin(rus_and_ukr_list), 'ros'] = 'Россия+Украина' \n"
   ]
  },
  {
   "cell_type": "markdown",
   "id": "a4457170",
   "metadata": {},
   "source": [
    "# Обработка данных с учтом ограничений на даты ДНП и последней операции"
   ]
  },
  {
   "cell_type": "code",
   "execution_count": 26,
   "id": "b142cc98",
   "metadata": {},
   "outputs": [],
   "source": [
    "#Оставляем только те модели, ДНП и последняя дата операции которых не раньше 1го июля\n",
    "\n",
    "data_cur_year=pd.DataFrame(pps_odv_plm.groupby(['modeliN','dnp'])['DT'].max().reset_index())\n",
    "new_data=data_cur_year[data_cur_year.DT >= '2021-07-01 00:00:00']\n",
    "new_data=new_data[data_cur_year.dnp >= '2021-07-01 00:00:00']\n",
    "\n",
    "#В основной таблице оставляем отфильтрованные данные\n",
    "pps_odv_plm=pps_odv_plm.drop(['dnp'], axis=1)\n",
    "new_data = new_data.drop(['DT'], axis=1)\n",
    "pps_odv_plm = new_data.merge(pps_odv_plm, how = 'left', on ='modeliN')\n",
    "pps_odv_plm = pps_odv_plm.reset_index(drop=True)"
   ]
  },
  {
   "cell_type": "markdown",
   "id": "634481ef",
   "metadata": {},
   "source": [
    "# Подсчет дней"
   ]
  },
  {
   "cell_type": "code",
   "execution_count": 27,
   "id": "c72f82ce",
   "metadata": {},
   "outputs": [],
   "source": [
    "#Total production by countries\n",
    "\n",
    "dtt = pps_odv_plm.sort_values(['DT'], ascending=False).groupby(['ros','modeliN'])['DT']\n",
    "\n",
    "total_time_data = pd.DataFrame((dtt.first() - dtt.last()).dt.days)\n",
    "total_time_data['Days'] = total_time_data.DT+1\n",
    "total_time_data=total_time_data.drop(['DT'], axis=1)\n",
    "\n",
    "total_time_data['name'] = 'Production Total'\n",
    "total_time_data = total_time_data.merge(pps_odv_plm[['modeliN','zakaz','dnp','Dep','Cat','subCat','ros','Тип','Target group','Category Production']], how = 'left', on = ['modeliN', 'ros'])\n",
    "total_time_data = total_time_data[['ros','name','modeliN','Days','dnp','zakaz','Dep','Cat','subCat', 'Тип','Target group','Category Production' ]]\n",
    "total_time_data = total_time_data.drop_duplicates()\n",
    "total_time_data=total_time_data.reset_index(drop=True)"
   ]
  },
  {
   "cell_type": "code",
   "execution_count": 28,
   "id": "81f92a86",
   "metadata": {},
   "outputs": [],
   "source": [
    "#pre-Sewing days\n",
    "\n",
    "pre_sewing_list = ['Cutting', 'Embroidery','Printing','Automated Machines']\n",
    "\n",
    "pre_dts=pps_odv_plm[pps_odv_plm.name.isin(pre_sewing_list)].sort_values(\n",
    "            ['DT'], ascending=False).groupby(['ros','modeliN'])['DT']\n",
    "\n",
    "pre_sewing_data = pd.DataFrame((pre_dts.first() - pre_dts.last()).dt.days)\n",
    "pre_sewing_data['Days'] = pre_sewing_data.DT+1\n",
    "pre_sewing_data=pre_sewing_data.drop(['DT'], axis=1)\n",
    "\n",
    "pre_sewing_data['name'] = 'pre-Sewing'\n",
    "pre_sewing_data = pre_sewing_data.merge(pps_odv_plm[['modeliN','zakaz','dnp','Dep','Cat','subCat','ros','Тип','Target group','Category Production']], how = 'left', on = ['modeliN', 'ros'])\n",
    "pre_sewing_data = pre_sewing_data[['ros','name','modeliN','Days','dnp','zakaz','Dep','Cat','subCat', 'Тип','Target group','Category Production' ]]\n",
    "pre_sewing_data = pre_sewing_data.drop_duplicates()\n",
    "pre_sewing_data=pre_sewing_data.reset_index(drop=True)"
   ]
  },
  {
   "cell_type": "code",
   "execution_count": 29,
   "id": "93b3ddb9",
   "metadata": {},
   "outputs": [],
   "source": [
    "#post-Sewing days\n",
    "\n",
    "post_sewing_list = ['Post Sewing','Washing','SE-Attrition','SE-Brush','SE-Glove','SE-Pinks', 'SE-Silicone',\n",
    "                    'SE-Spray','SE-Laser','SE-Mesh','Finishing']\n",
    "\n",
    "post_dts=pps_odv_plm[pps_odv_plm.name.isin(post_sewing_list)].sort_values(\n",
    "            ['DT'], ascending=False).groupby(['ros','modeliN'])['DT']\n",
    "\n",
    "post_sewing_data = pd.DataFrame((post_dts.first() - post_dts.last()).dt.days)\n",
    "post_sewing_data['Days'] = post_sewing_data.DT+1\n",
    "post_sewing_data=post_sewing_data.drop(['DT'], axis=1)\n",
    "\n",
    "post_sewing_data['name'] = 'post-Sewing'\n",
    "post_sewing_data = post_sewing_data.merge(pps_odv_plm[['modeliN','zakaz','dnp','Dep','Cat','subCat','ros','Тип','Target group','Category Production']], how = 'left', on = ['modeliN', 'ros'])\n",
    "post_sewing_data = post_sewing_data[['ros','name','modeliN','Days','dnp','zakaz','Dep','Cat','subCat', 'Тип','Target group','Category Production' ]]\n",
    "post_sewing_data = post_sewing_data.drop_duplicates()\n",
    "post_sewing_data=post_sewing_data.reset_index(drop=True)"
   ]
  },
  {
   "cell_type": "code",
   "execution_count": 30,
   "id": "d9aceb81",
   "metadata": {},
   "outputs": [],
   "source": [
    "#Total production for drop_list\n",
    "\n",
    "total_without_ros = pps_odv_plm.sort_values(['DT'], ascending=False).groupby(['modeliN'])['DT']\n",
    "total_model_data = pd.DataFrame((total_without_ros.first() - total_without_ros.last()).dt.days)\n",
    "total_model_data['Days'] = total_model_data.DT+1\n",
    "total_model_data=total_model_data.drop(['DT'], axis=1)\n",
    "\n",
    "\n",
    "#Созание списка с моделями, total по которым меньше 80% и не больше 100 дней\n",
    "drop_model_list=total_model_data[((total_model_data.Days>=total_model_data.Days.quantile(q=0.8, interpolation='nearest'))|\n",
    "                                     (total_model_data.Days>100)| (total_model_data.Days<8))]\n",
    "\n",
    "drop_model_list = drop_model_list.reset_index()\n",
    "drop_model_list = list(drop_model_list.modeliN.values)\n",
    "drop_model_list = list(set(drop_model_list))"
   ]
  },
  {
   "cell_type": "code",
   "execution_count": 31,
   "id": "cbb20eee",
   "metadata": {},
   "outputs": [],
   "source": [
    "#Удаляем модели, по которым не было пошива или кройки\n",
    "\n",
    "no_name_data = pps_odv_plm[(pps_odv_plm.name==\"Sewing\")|\n",
    "                           (pps_odv_plm.name=='Cutting')][['modeliN', 'name']].drop_duplicates().groupby(\n",
    "                                                               'modeliN').count().reset_index()\n",
    "no_name_data = no_name_data[no_name_data.name<2]\n",
    "no_name_list = list(no_name_data.modeliN.unique())\n",
    "\n",
    "for i in no_name_list:\n",
    "    if i in drop_model_list:\n",
    "        no_name_list.remove(i)\n",
    "\n",
    "pps_odv_plm = pps_odv_plm.loc[~(pps_odv_plm.modeliN.isin(no_name_list))]"
   ]
  },
  {
   "cell_type": "code",
   "execution_count": 32,
   "id": "47afc2ad",
   "metadata": {},
   "outputs": [],
   "source": [
    "#Группируем данные, сортируя по дате\n",
    "dt = pps_odv_plm.sort_values(['DT'], ascending=False).groupby(['ros','name','modeliN'])['DT']\n",
    "\n",
    "\n",
    "#Считаем количество дней\n",
    "time_data = pd.DataFrame((dt.first() - dt.last()).dt.days)\n",
    "time_data['Days'] = time_data.DT+1\n",
    "time_data=time_data.drop(['DT'], axis=1)"
   ]
  },
  {
   "cell_type": "code",
   "execution_count": 33,
   "id": "b15d60e3",
   "metadata": {},
   "outputs": [],
   "source": [
    "#Добавляем столбик с днями по операциям к итоговой таблице\n",
    "\n",
    "pps_odv_plm=pps_odv_plm.drop(['DT','num','StyleNo'], axis=1)\n",
    "pps_odv_plm=pps_odv_plm.drop_duplicates()\n",
    "\n",
    "#Итоговая таблица для загрузки\n",
    "result=time_data.merge(pps_odv_plm, how = 'left', on = ['ros','name','modeliN'])"
   ]
  },
  {
   "cell_type": "code",
   "execution_count": 34,
   "id": "ff7186ff",
   "metadata": {},
   "outputs": [],
   "source": [
    "#Присоединяем строчки с тоталом с итоговой таблице\n",
    "\n",
    "result = pd.concat([result, total_time_data], ignore_index=True) \n",
    "result = pd.concat([result, pre_sewing_data], ignore_index=True)\n",
    "result = pd.concat([result, post_sewing_data], ignore_index=True)\n",
    "result = result.drop(['Vp'],axis=1)\n",
    "result = result.drop_duplicates()"
   ]
  },
  {
   "cell_type": "markdown",
   "id": "7bd8aba5",
   "metadata": {},
   "source": [
    "# Операции в столбиках (Pivot)"
   ]
  },
  {
   "cell_type": "code",
   "execution_count": 35,
   "id": "8c026d65",
   "metadata": {},
   "outputs": [],
   "source": [
    "#Разбиваем операции на столбики\n",
    "\n",
    "pivot = pd.pivot_table(result, values='Days', index=['modeliN','ros'],\n",
    "                    columns=['name'], aggfunc=np.sum, fill_value=np.nan)"
   ]
  },
  {
   "cell_type": "code",
   "execution_count": 35,
   "id": "9a5113d3",
   "metadata": {},
   "outputs": [],
   "source": [
    "#удаляем в таблице столбики-дубликаты столбиков из result\n",
    "# drop_columns=pivot.columns.str.contains('SE-')==True\n",
    "\n",
    "# droped_columns = []\n",
    "# for i in range(len(drop_columns)):\n",
    "#     if drop_columns[i]==True:\n",
    "#         droped_columns.append(pivot.columns[i])\n",
    "\n",
    "# pivot=pivot.drop(droped_columns, axis=1)\n",
    "# pivot.head()"
   ]
  },
  {
   "cell_type": "code",
   "execution_count": 36,
   "id": "386ac4fa",
   "metadata": {},
   "outputs": [],
   "source": [
    "#Доавляем столбики по операциям к итоговой таблице\n",
    "\n",
    "result = result.merge(pivot, how = 'left', on =['modeliN', 'ros'])\n",
    "result = result.drop(['Days','name'],axis=1)\n",
    "result = result.drop_duplicates()"
   ]
  },
  {
   "cell_type": "markdown",
   "id": "740d0273",
   "metadata": {},
   "source": [
    "# Удаление моделей, превышающих ограничения"
   ]
  },
  {
   "cell_type": "code",
   "execution_count": 37,
   "id": "2bd7a21f",
   "metadata": {},
   "outputs": [],
   "source": [
    "#Удаляем модели из drop_model_list\n",
    "\n",
    "result = result.loc[~(result.modeliN.isin(drop_model_list)), : ] \n",
    "result=result.loc[~((result.Sewing.isna())&(result.Cutting.isna()))]\n",
    "result = result.reset_index(drop=True)"
   ]
  },
  {
   "cell_type": "markdown",
   "id": "773a6428",
   "metadata": {},
   "source": [
    "# Подсчет СС с учетом страны"
   ]
  },
  {
   "cell_type": "code",
   "execution_count": 38,
   "id": "fcbd3092",
   "metadata": {},
   "outputs": [],
   "source": [
    "#Находим страну Sewing\n",
    "cc_model = result[['ros','Sewing','modeliN']]\n",
    "cc_model = cc_model.dropna()\n",
    "cc_model['main_model'] = cc_model.modeliN\n",
    "cc_model = cc_model.drop(['Sewing'], axis =1)\n",
    "result = result.merge(cc_model, how = 'left', on = ['ros','modeliN'])\n",
    "\n",
    "\n",
    "#Определяем страну для моделей без пошива\n",
    "cc_no_sewing=result[['Sewing','modeliN']]\n",
    "cc_no_sewing = cc_no_sewing.fillna(0)\n",
    "cc_no_sewing = cc_no_sewing.groupby('modeliN')['Sewing'].sum().reset_index()\n",
    "cc_no_sewing = cc_no_sewing[cc_no_sewing.Sewing==0].reset_index(drop=True)\n",
    "cc_no_sewing['main_model_2'] = cc_no_sewing['modeliN']\n",
    "cc_no_sewing = cc_no_sewing.drop(['Sewing'], axis =1)\n",
    "result = result.merge(cc_no_sewing, how = 'left', on = ['modeliN'])\n",
    "\n",
    "#Сливаем данные по main_model\n",
    "result['main_model']=np.where(result.main_model_2.notna(), result.main_model_2, result.main_model)\n",
    "result = result.drop(['main_model_2'], axis =1)"
   ]
  },
  {
   "cell_type": "code",
   "execution_count": 39,
   "id": "4e8a5d1f",
   "metadata": {},
   "outputs": [
    {
     "data": {
      "text/plain": [
       "ros                      0\n",
       "modeliN                  0\n",
       "dnp                      0\n",
       "zakaz                    0\n",
       "Dep                      0\n",
       "Cat                      0\n",
       "subCat                   0\n",
       "Тип                      0\n",
       "Target group             0\n",
       "Category Production      0\n",
       "Automated Machines     356\n",
       "Cutting                  0\n",
       "Embroidery             391\n",
       "Finishing               24\n",
       "Post Sewing            379\n",
       "Printing               284\n",
       "Production Total         0\n",
       "SE-Attrition           423\n",
       "SE-Brush               436\n",
       "SE-Glove               438\n",
       "SE-Laser               417\n",
       "SE-Mesh                436\n",
       "SE-Pinks               433\n",
       "SE-Silicone            437\n",
       "SE-Spray               411\n",
       "Sewing                   0\n",
       "Washing                285\n",
       "post-Sewing             24\n",
       "pre-Sewing               0\n",
       "main_model               0\n",
       "dtype: int64"
      ]
     },
     "execution_count": 39,
     "metadata": {},
     "output_type": "execute_result"
    }
   ],
   "source": [
    "result.isna().sum()"
   ]
  },
  {
   "cell_type": "markdown",
   "id": "a00d91aa",
   "metadata": {},
   "source": [
    "# Дополнительные преобразования"
   ]
  },
  {
   "cell_type": "code",
   "execution_count": 40,
   "id": "dfa59714",
   "metadata": {},
   "outputs": [],
   "source": [
    "#Делим категории на denim/non-denim\n",
    "result['Category Production'] = result['Category Production'].str.lower()\n",
    "\n",
    "new_cat=[]\n",
    "for i in range(len(result)):\n",
    "    if result['Category Production'][i]=='denim':\n",
    "        new_cat.append('denim')\n",
    "    else:\n",
    "        new_cat.append('non-denim')\n",
    "\n",
    "\n",
    "result['Category+2'] = new_cat"
   ]
  },
  {
   "cell_type": "code",
   "execution_count": 42,
   "id": "b71b6195",
   "metadata": {},
   "outputs": [
    {
     "data": {
      "text/html": [
       "<div>\n",
       "<style scoped>\n",
       "    .dataframe tbody tr th:only-of-type {\n",
       "        vertical-align: middle;\n",
       "    }\n",
       "\n",
       "    .dataframe tbody tr th {\n",
       "        vertical-align: top;\n",
       "    }\n",
       "\n",
       "    .dataframe thead th {\n",
       "        text-align: right;\n",
       "    }\n",
       "</style>\n",
       "<table border=\"1\" class=\"dataframe\">\n",
       "  <thead>\n",
       "    <tr style=\"text-align: right;\">\n",
       "      <th></th>\n",
       "      <th>ros</th>\n",
       "      <th>modeliN</th>\n",
       "      <th>Dep</th>\n",
       "      <th>Cat</th>\n",
       "      <th>post-Sewing</th>\n",
       "      <th>pre-Sewing</th>\n",
       "    </tr>\n",
       "  </thead>\n",
       "  <tbody>\n",
       "    <tr>\n",
       "      <th>0</th>\n",
       "      <td>Россия</td>\n",
       "      <td>BAC010149 серый меланж</td>\n",
       "      <td>Activewear</td>\n",
       "      <td>Act Pants</td>\n",
       "      <td>21.0</td>\n",
       "      <td>16.0</td>\n",
       "    </tr>\n",
       "    <tr>\n",
       "      <th>1</th>\n",
       "      <td>Россия</td>\n",
       "      <td>BJN009749 медиум-лайт/айс</td>\n",
       "      <td>Jeans</td>\n",
       "      <td>Jeans Commercial</td>\n",
       "      <td>41.0</td>\n",
       "      <td>12.0</td>\n",
       "    </tr>\n",
       "    <tr>\n",
       "      <th>2</th>\n",
       "      <td>Россия</td>\n",
       "      <td>BJN010234 черный</td>\n",
       "      <td>Jeans</td>\n",
       "      <td>Jeans Commercial</td>\n",
       "      <td>47.0</td>\n",
       "      <td>9.0</td>\n",
       "    </tr>\n",
       "    <tr>\n",
       "      <th>3</th>\n",
       "      <td>Россия</td>\n",
       "      <td>BJN010256 медиум-лайт/айс</td>\n",
       "      <td>Jeans</td>\n",
       "      <td>Jeans Commercial</td>\n",
       "      <td>24.0</td>\n",
       "      <td>16.0</td>\n",
       "    </tr>\n",
       "    <tr>\n",
       "      <th>4</th>\n",
       "      <td>Россия</td>\n",
       "      <td>BJN010435 серый</td>\n",
       "      <td>Jeans</td>\n",
       "      <td>Jeans Commercial</td>\n",
       "      <td>25.0</td>\n",
       "      <td>10.0</td>\n",
       "    </tr>\n",
       "  </tbody>\n",
       "</table>\n",
       "</div>"
      ],
      "text/plain": [
       "                              ros                    modeliN         Dep  \\\n",
       "0  Россия                             BAC010149 серый меланж  Activewear   \n",
       "1  Россия                          BJN009749 медиум-лайт/айс       Jeans   \n",
       "2  Россия                                   BJN010234 черный       Jeans   \n",
       "3  Россия                          BJN010256 медиум-лайт/айс       Jeans   \n",
       "4  Россия                                    BJN010435 серый       Jeans   \n",
       "\n",
       "                Cat  post-Sewing  pre-Sewing  \n",
       "0         Act Pants         21.0        16.0  \n",
       "1  Jeans Commercial         41.0        12.0  \n",
       "2  Jeans Commercial         47.0         9.0  \n",
       "3  Jeans Commercial         24.0        16.0  \n",
       "4  Jeans Commercial         25.0        10.0  "
      ]
     },
     "execution_count": 42,
     "metadata": {},
     "output_type": "execute_result"
    }
   ],
   "source": [
    "#Месяц и год\n",
    "result['dnp']=pd.to_datetime(result['dnp'])\n",
    "result['Month'] = result['dnp'].dt.strftime('%m')\n",
    "result['Year'] = result['dnp'].dt.strftime('%Y')\n",
    "result['quarter_FSD'] = result['dnp'].dt.quarter.apply(str)+'Q'+result.Year.str.slice(start=2)\n",
    "result = result.drop_duplicates()\n",
    "\n",
    "#Вывожу часть результата\n",
    "result[['ros', 'modeliN', 'Dep', 'Cat', 'post-Sewing', 'pre-Sewing']].head()"
   ]
  },
  {
   "cell_type": "code",
   "execution_count": 42,
   "id": "8d8ccfea",
   "metadata": {},
   "outputs": [],
   "source": [
    "#Удаляем модели в кросс-странах, если их мало\n",
    "if len(result[result.ros=='Россия+Украина'])<3:\n",
    "    result = result[result.ros!='Россия+Украина']"
   ]
  },
  {
   "cell_type": "markdown",
   "id": "752e1584",
   "metadata": {},
   "source": [
    "# Выгрузка базы"
   ]
  },
  {
   "cell_type": "code",
   "execution_count": 43,
   "id": "bb9cdbc9",
   "metadata": {},
   "outputs": [],
   "source": [
    "#Выгружаем таблицу\n",
    "\n",
    "result.to_excel(\"Lead_Time_Report.xlsx\", index=False)"
   ]
  }
 ],
 "metadata": {
  "kernelspec": {
   "display_name": "Python 3",
   "language": "python",
   "name": "python3"
  },
  "language_info": {
   "codemirror_mode": {
    "name": "ipython",
    "version": 3
   },
   "file_extension": ".py",
   "mimetype": "text/x-python",
   "name": "python",
   "nbconvert_exporter": "python",
   "pygments_lexer": "ipython3",
   "version": "3.8.8"
  }
 },
 "nbformat": 4,
 "nbformat_minor": 5
}
